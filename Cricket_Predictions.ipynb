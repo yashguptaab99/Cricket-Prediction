{
  "nbformat": 4,
  "nbformat_minor": 0,
  "metadata": {
    "colab": {
      "name": "Cricket Predictions",
      "provenance": [],
      "mount_file_id": "1gUJVZpPZurnazHUhndCnlnGnFeac3SV_",
      "authorship_tag": "ABX9TyOHpAPvN0DGjKQE/QJzW70p",
      "include_colab_link": true
    },
    "kernelspec": {
      "name": "python3",
      "display_name": "Python 3"
    }
  },
  "cells": [
    {
      "cell_type": "markdown",
      "metadata": {
        "id": "view-in-github",
        "colab_type": "text"
      },
      "source": [
        "<a href=\"https://colab.research.google.com/github/yashguptaab99/Cricket-Prediction/blob/master/Cricket_Predictions.ipynb\" target=\"_parent\"><img src=\"https://colab.research.google.com/assets/colab-badge.svg\" alt=\"Open In Colab\"/></a>"
      ]
    },
    {
      "cell_type": "markdown",
      "metadata": {
        "id": "dGo4f02mTB31",
        "colab_type": "text"
      },
      "source": [
        "# INCREASED PREDICTION ACCURACY IN THE GAME OF CRICKET USING MACHINE LEARNING"
      ]
    },
    {
      "cell_type": "markdown",
      "metadata": {
        "id": "9ITNa7xySunH",
        "colab_type": "text"
      },
      "source": [
        "Player selection is one the most important tasks for any sport and cricket is no exception. The performance of the players depends on various factors such as the opposition team, the venue, his current form etc. The team management, the coach and the captain select 11 players for each match from a squad of 15 to 20 players. They analyze different characteristics and the statistics of the players to select the best playing 11 for each match. Each batsman contributes by scoring maximum runs possible and each bowler contributes by taking maximum wickets and conceding minimum runs. This paper attempts to predict the performance of players as how many runs will each batsman score and how many wickets will each bowler take for both the teams. Both the problems are targeted as classification problems where number of runs and number of wickets are classified in different ranges. We used naïve bayes, random forest, multiclass SVM and decision tree classifiers to generate the prediction models for both the problems. Random Forest classifier was found to be the most accurate for both the problems. "
      ]
    },
    {
      "cell_type": "markdown",
      "metadata": {
        "id": "IFzJj-0LcX8S",
        "colab_type": "text"
      },
      "source": [
        "# Importing Libraray"
      ]
    },
    {
      "cell_type": "code",
      "metadata": {
        "id": "6155Fd-fSwFJ",
        "colab_type": "code",
        "colab": {}
      },
      "source": [
        "import pandas as pd\n",
        "import re"
      ],
      "execution_count": 1,
      "outputs": []
    },
    {
      "cell_type": "markdown",
      "metadata": {
        "id": "pSHaKro8caro",
        "colab_type": "text"
      },
      "source": [
        "# Importing Data"
      ]
    },
    {
      "cell_type": "code",
      "metadata": {
        "id": "GKXel35zUOHs",
        "colab_type": "code",
        "colab": {}
      },
      "source": [
        "# All Innings list after 14 Jan 2005\n",
        "batting = pd.read_csv(\"/content/drive/My Drive/Projects/Cricket Prediction/Batting.csv\")\n",
        "\n",
        "# All Ininngs list from 18 Dec 1989 to 13 Jan 2005\n",
        "battingExtra = pd.read_csv(\"/content/drive/My Drive/Projects/Cricket Prediction/Batting89-05.csv\")"
      ],
      "execution_count": 2,
      "outputs": []
    },
    {
      "cell_type": "markdown",
      "metadata": {
        "id": "nbU73hDXpFxm",
        "colab_type": "text"
      },
      "source": [
        "# Data Manipulation"
      ]
    },
    {
      "cell_type": "markdown",
      "metadata": {
        "id": "hsTU4CRfpSuK",
        "colab_type": "text"
      },
      "source": [
        "## Batting data"
      ]
    },
    {
      "cell_type": "code",
      "metadata": {
        "id": "qMP523zViq_E",
        "colab_type": "code",
        "colab": {}
      },
      "source": [
        "batting = batting.drop(columns=['Mins', '4s', '6s', 'Sr', 'Inns'])\n",
        "battingExtra = battingExtra.drop(columns=['Mins', '4s', '6s', 'Sr', 'Inns'])"
      ],
      "execution_count": 3,
      "outputs": []
    },
    {
      "cell_type": "code",
      "metadata": {
        "id": "tFU2vrJ9jJuL",
        "colab_type": "code",
        "colab": {}
      },
      "source": [
        "# Cleaning data\n",
        "\n",
        "batting = batting[batting.Runs != 'DNB']\n",
        "batting = batting[batting.Runs != 'TDNB']\n",
        "batting = batting[batting.Runs != 'sub']\n",
        "batting = batting[batting.Runs != 'absent']\n",
        "batting = batting.rename(columns={\"Player 1\":\"Player\", \"Start Date\":\"StartDate\"})\n",
        "\n",
        "battingExtra = battingExtra[battingExtra.Runs != 'DNB']\n",
        "battingExtra = battingExtra[battingExtra.Runs != 'TDNB']\n",
        "battingExtra = battingExtra[battingExtra.Runs != 'sub']\n",
        "battingExtra = battingExtra[battingExtra.Runs != 'absent']\n",
        "battingExtra = battingExtra.rename(columns={\"Player 1\":\"Player\", \"Start Date\":\"StartDate\"})"
      ],
      "execution_count": 4,
      "outputs": []
    },
    {
      "cell_type": "code",
      "metadata": {
        "id": "5ntZbE-6okL2",
        "colab_type": "code",
        "colab": {}
      },
      "source": [
        "#List of all players who played after 14 Jan 2005\n",
        "\n",
        "listOfBatsman = list(batting['Player'].unique())"
      ],
      "execution_count": 5,
      "outputs": []
    },
    {
      "cell_type": "code",
      "metadata": {
        "id": "QK-iluKHuolN",
        "colab_type": "code",
        "colab": {}
      },
      "source": [
        "#Merging player past performance innings which were present in matches after 2005\n",
        "# for ex. Sachine was senior most so his mast matches performance shoould be added \n",
        "\n",
        "for player in listOfBatsman:\n",
        "  playerframe = battingExtra[battingExtra.Player == player]\n",
        "  batting = batting.append(playerframe)\n"
      ],
      "execution_count": 6,
      "outputs": []
    },
    {
      "cell_type": "code",
      "metadata": {
        "id": "7xB9x7rluo-b",
        "colab_type": "code",
        "colab": {
          "base_uri": "https://localhost:8080/",
          "height": 255
        },
        "outputId": "f7b03d60-402f-46b6-f117-4aa37c80c209"
      },
      "source": [
        "# Now batting variable contains all players past played innings\n",
        "batting.info()"
      ],
      "execution_count": 8,
      "outputs": [
        {
          "output_type": "stream",
          "text": [
            "<class 'pandas.core.frame.DataFrame'>\n",
            "Int64Index: 47844 entries, 2 to 35439\n",
            "Data columns (total 7 columns):\n",
            " #   Column      Non-Null Count  Dtype \n",
            "---  ------      --------------  ----- \n",
            " 0   Player      47844 non-null  object\n",
            " 1   Team        47844 non-null  object\n",
            " 2   Runs        47844 non-null  object\n",
            " 3   Bf          47844 non-null  object\n",
            " 4   Opposition  47844 non-null  object\n",
            " 5   Ground      47844 non-null  object\n",
            " 6   StartDate   47844 non-null  object\n",
            "dtypes: object(7)\n",
            "memory usage: 2.9+ MB\n"
          ],
          "name": "stdout"
        }
      ]
    },
    {
      "cell_type": "code",
      "metadata": {
        "id": "xp7k6FEJupGy",
        "colab_type": "code",
        "colab": {}
      },
      "source": [
        ""
      ],
      "execution_count": 8,
      "outputs": []
    },
    {
      "cell_type": "code",
      "metadata": {
        "id": "E4yvQMdPupKh",
        "colab_type": "code",
        "colab": {}
      },
      "source": [
        ""
      ],
      "execution_count": 8,
      "outputs": []
    },
    {
      "cell_type": "markdown",
      "metadata": {
        "id": "Cm8gBhaSy6oI",
        "colab_type": "text"
      },
      "source": [
        "## Calculation Tradition Batting Attributes"
      ]
    },
    {
      "cell_type": "code",
      "metadata": {
        "id": "NGcHBQGwupY9",
        "colab_type": "code",
        "colab": {}
      },
      "source": [
        "#Converting bf to integer and cleaning it\n",
        "bf = []\n",
        "for st in batting['Bf'].values:\n",
        "  st = re.findall(r'[0-9]+', st)\n",
        "  if not st:\n",
        "    st.append('0')\n",
        "  bf.append(float(st[0]))"
      ],
      "execution_count": 9,
      "outputs": []
    },
    {
      "cell_type": "code",
      "metadata": {
        "id": "qsHBAKwkupW-",
        "colab_type": "code",
        "colab": {}
      },
      "source": [
        "batting['Bf'] = bf"
      ],
      "execution_count": 10,
      "outputs": []
    },
    {
      "cell_type": "code",
      "metadata": {
        "id": "bdxd9w9Np6gJ",
        "colab_type": "code",
        "colab": {}
      },
      "source": [
        "# List of batting attributes \n",
        "num_of_innings = []\n",
        "batting_avg = []\n",
        "strike_rate = []\n",
        "centuries = []\n",
        "fifties = []\n",
        "highest = []\n",
        "zeros = []"
      ],
      "execution_count": 11,
      "outputs": []
    },
    {
      "cell_type": "code",
      "metadata": {
        "id": "rvkYGddOq8Pq",
        "colab_type": "code",
        "colab": {
          "base_uri": "https://localhost:8080/",
          "height": 102
        },
        "outputId": "2dd76474-e519-44de-8194-5ae1f79d38ca"
      },
      "source": [
        "for player in listOfBatsman:\n",
        "  not_outs = 0\n",
        "  runs_score = 0\n",
        "  balls_faced = 0\n",
        "  playerframe = batting[batting.Player == player]\n",
        "\n",
        "  #number of innings\n",
        "  numInnings = playerframe.shape[0]\n",
        "\n",
        "  #Amount of not out\n",
        "  for st in playerframe['Runs'].values:\n",
        "    if st.endswith(\"*\"):\n",
        "      not_outs+=1\n",
        "\n",
        "  #Number of Dismisal\n",
        "  num_of_dismisal = numInnings - not_outs\n",
        "\n",
        "  #Total Runs\n",
        "  #converting to int\n",
        "  playruns = []\n",
        "  for st in playerframe['Runs'].values:\n",
        "    st = re.findall(r'[0-9]+', st)\n",
        "    if not st:\n",
        "      st.append('0')\n",
        "    playruns.append(float(st[0]))\n",
        "  playerframe['Runs'] = playruns\n",
        "  runs_score = playerframe['Runs'].sum()\n",
        "\n",
        "  #Total Ball Faced\n",
        "  balls_faced = playerframe['Bf'].sum()\n",
        "\n",
        "  #Batting Average\n",
        "  if (num_of_dismisal==0):\n",
        "    battign_average = 0\n",
        "  else:\n",
        "    battign_average = runs_score/num_of_dismisal\n",
        "\n",
        "  #Strike Rate\n",
        "  if (balls_faced==0):\n",
        "    sr = 0\n",
        "  else:\n",
        "    sr = (runs_score/balls_faced) * 100\n",
        "\n",
        "  #Number of Centuries\n",
        "  cen = playerframe[playerframe.Runs >= 100].shape[0]\n",
        "\n",
        "  ##Number of Fifties\n",
        "  fif = playerframe[playerframe.Runs >= 50].shape[0]\n",
        "  fif = fif - cen\n",
        "\n",
        "  #Highest Score\n",
        "  h = playerframe['Runs'].max()\n",
        "\n",
        "  #Number of Zeros\n",
        "  zero = playerframe[playerframe.Runs == 0].shape[0]\n",
        "\n",
        "  num_of_innings.append(numInnings)\n",
        "  batting_avg.append(battign_average)\n",
        "  strike_rate.append(sr)\n",
        "  centuries.append(cen)\n",
        "  fifties.append(fif)\n",
        "  highest.append(h)\n",
        "  zeros.append(zero)\n",
        "\n",
        "df = pd.DataFrame()\n",
        "df['listOfBatsman'] = listOfBatsman\n",
        "df['num_of_innings'] = num_of_innings\n",
        "df['batting_avg'] = batting_avg\n",
        "df['strike_rate'] = strike_rate\n",
        "df['centuries'] = centuries\n",
        "df['fifties'] = fifties\n",
        "df['highest_score'] = highest\n",
        "df['num_of_zeroes'] = zeros"
      ],
      "execution_count": 12,
      "outputs": [
        {
          "output_type": "stream",
          "text": [
            "/usr/local/lib/python3.6/dist-packages/ipykernel_launcher.py:26: SettingWithCopyWarning: \n",
            "A value is trying to be set on a copy of a slice from a DataFrame.\n",
            "Try using .loc[row_indexer,col_indexer] = value instead\n",
            "\n",
            "See the caveats in the documentation: https://pandas.pydata.org/pandas-docs/stable/user_guide/indexing.html#returning-a-view-versus-a-copy\n"
          ],
          "name": "stderr"
        }
      ]
    },
    {
      "cell_type": "code",
      "metadata": {
        "id": "D3TCzVIw0hxr",
        "colab_type": "code",
        "colab": {
          "base_uri": "https://localhost:8080/",
          "height": 272
        },
        "outputId": "c1d86f09-7acc-4fb5-eab3-c75eb3449c06"
      },
      "source": [
        "df.info()"
      ],
      "execution_count": 13,
      "outputs": [
        {
          "output_type": "stream",
          "text": [
            "<class 'pandas.core.frame.DataFrame'>\n",
            "RangeIndex: 1400 entries, 0 to 1399\n",
            "Data columns (total 8 columns):\n",
            " #   Column          Non-Null Count  Dtype  \n",
            "---  ------          --------------  -----  \n",
            " 0   listOfBatsman   1400 non-null   object \n",
            " 1   num_of_innings  1400 non-null   int64  \n",
            " 2   batting_avg     1400 non-null   float64\n",
            " 3   strike_rate     1400 non-null   float64\n",
            " 4   centuries       1400 non-null   int64  \n",
            " 5   fifties         1400 non-null   int64  \n",
            " 6   highest_score   1400 non-null   float64\n",
            " 7   num_of_zeroes   1400 non-null   int64  \n",
            "dtypes: float64(3), int64(4), object(1)\n",
            "memory usage: 87.6+ KB\n"
          ],
          "name": "stdout"
        }
      ]
    },
    {
      "cell_type": "code",
      "metadata": {
        "id": "3MNcdfmsArkc",
        "colab_type": "code",
        "colab": {}
      },
      "source": [
        "df.to_csv(\"/content/drive/My Drive/Projects/Cricket Prediction/PlayerStats05-20.csv\")"
      ],
      "execution_count": 14,
      "outputs": []
    },
    {
      "cell_type": "code",
      "metadata": {
        "id": "sPCcqWPwjyQz",
        "colab_type": "code",
        "colab": {}
      },
      "source": [
        "#Converting runs to integer and cleaning it\n",
        "runs = []\n",
        "for st in batting['Runs'].values:\n",
        "  st = re.findall(r'[0-9]+', st)\n",
        "  if not st:\n",
        "    st.append('0')\n",
        "  runs.append(float(st[0]))"
      ],
      "execution_count": 15,
      "outputs": []
    },
    {
      "cell_type": "code",
      "metadata": {
        "id": "YF1mcM_fmFLW",
        "colab_type": "code",
        "colab": {}
      },
      "source": [
        "batting['Runs'] = runs\n",
        "batting['StartDate'] = pd.to_datetime(batting['StartDate'])"
      ],
      "execution_count": 21,
      "outputs": []
    },
    {
      "cell_type": "code",
      "metadata": {
        "id": "BFBo8abE0NJQ",
        "colab_type": "code",
        "colab": {
          "base_uri": "https://localhost:8080/",
          "height": 255
        },
        "outputId": "439f7c42-1df8-4052-d541-0a83aff94a1b"
      },
      "source": [
        "batting.info()"
      ],
      "execution_count": 22,
      "outputs": [
        {
          "output_type": "stream",
          "text": [
            "<class 'pandas.core.frame.DataFrame'>\n",
            "Int64Index: 47844 entries, 2 to 35439\n",
            "Data columns (total 7 columns):\n",
            " #   Column      Non-Null Count  Dtype         \n",
            "---  ------      --------------  -----         \n",
            " 0   Player      47844 non-null  object        \n",
            " 1   Team        47844 non-null  object        \n",
            " 2   Runs        47844 non-null  float64       \n",
            " 3   Bf          47844 non-null  float64       \n",
            " 4   Opposition  47844 non-null  object        \n",
            " 5   Ground      47844 non-null  object        \n",
            " 6   StartDate   47844 non-null  datetime64[ns]\n",
            "dtypes: datetime64[ns](1), float64(2), object(4)\n",
            "memory usage: 2.9+ MB\n"
          ],
          "name": "stdout"
        }
      ]
    },
    {
      "cell_type": "markdown",
      "metadata": {
        "id": "16OtKO2LzW6o",
        "colab_type": "text"
      },
      "source": [
        "## Calculation Derived Attributes"
      ]
    },
    {
      "cell_type": "markdown",
      "metadata": {
        "id": "7lcAG12F2Ahl",
        "colab_type": "text"
      },
      "source": [
        "This attribute describes how experienced the player is and how consistent he has been throughouthis career. All the traditional attributes used in this formula are calculated over the entire career of the player. \n",
        "\n",
        "**Consistency = (0.4262 X average) + (0.2566 X no. of innings) + (0.1510 X SR) + (0.0787 X Centuries) + (0.0556 X Fifties) – (0.0328 X Zeros)**"
      ]
    },
    {
      "cell_type": "code",
      "metadata": {
        "id": "J21geC-UzQ0C",
        "colab_type": "code",
        "colab": {}
      },
      "source": [
        "## Consistency \n",
        "\n"
      ],
      "execution_count": 23,
      "outputs": []
    },
    {
      "cell_type": "markdown",
      "metadata": {
        "id": "VreyJ5pZ2wG5",
        "colab_type": "text"
      },
      "source": [
        "Form of a player describes his performance over last one year. All the traditional attributes used in this formula are calculated over the matches played by the player in last 12 months from the day of the match. \n",
        "\n",
        "**Form = 0.4262 X average + 0.2566 X no. of innings + 0.1510 X SR + 0.0787 X Centuries + 0.0556 X Fifties – 0.0328 X Zeros**"
      ]
    },
    {
      "cell_type": "code",
      "metadata": {
        "id": "-x5_rPZW15bv",
        "colab_type": "code",
        "colab": {}
      },
      "source": [
        "## Form"
      ],
      "execution_count": 24,
      "outputs": []
    },
    {
      "cell_type": "markdown",
      "metadata": {
        "id": "okcWApBc2xJD",
        "colab_type": "text"
      },
      "source": [
        "Opposition describes a player’s performance against a particular team. All the traditional attributes used in this formula are calculated over all the matches played by the player against the opposition team in his entire career till the day of the match. \n",
        "\n",
        "**Opposition = 0.4262 X average + 0.2566 X no. of innings + 0.1510 X SR + 0.0787 X Centuries + 0.0556 X Fifties – 0.0328 X Zeros** "
      ]
    },
    {
      "cell_type": "code",
      "metadata": {
        "id": "4bK35DAQ16qd",
        "colab_type": "code",
        "colab": {}
      },
      "source": [
        "## Opposition "
      ],
      "execution_count": 25,
      "outputs": []
    },
    {
      "cell_type": "markdown",
      "metadata": {
        "id": "LAgdKvF53eU7",
        "colab_type": "text"
      },
      "source": [
        "Venue describes a player’s performance at a particular venue. All the traditional attributes used in this formula are calculated over all the matches played by the player at the venue in his entire career till the day of the match. \n",
        "\n",
        "**Venue = 0.4262 X average + 0.2566 X no. of innings + 0.1510 X SR + 0.0787X Centuries + 0.0556X Fifties + 0.0328 X HS**"
      ]
    },
    {
      "cell_type": "code",
      "metadata": {
        "id": "vWmpC5n4194P",
        "colab_type": "code",
        "colab": {}
      },
      "source": [
        "## Venue"
      ],
      "execution_count": null,
      "outputs": []
    }
  ]
}